{
 "cells": [
  {
   "cell_type": "code",
   "execution_count": 62,
   "metadata": {
    "collapsed": true
   },
   "outputs": [],
   "source": [
    "%matplotlib notebook\n",
    "import glob\n",
    "import os\n",
    "import numpy as np\n",
    "import matplotlib.pyplot as plt\n",
    "import tifffile as tif"
   ]
  },
  {
   "cell_type": "code",
   "execution_count": 59,
   "metadata": {
    "collapsed": false
   },
   "outputs": [],
   "source": [
    "def read_tif_files():\n",
    "    '''function to read out tif files in directory'''\n",
    "    usr_in = input('Please give path to where is your data located at:  ')\n",
    "    os.chdir(file_dir)\n",
    "    f_list = list(glob.iglob('**/*.tif', recursive=True))\n",
    "    dark_list = list(glob.iglob('**/*dark*.tif', recursive=True))\n",
    "    for el in f_list:\n",
    "        if el in dark_list:\n",
    "            f_list.remove(el)\n",
    "    #out_list = [f for f in f_list if f not in dark_list]\n",
    "    print('number of total files = {}'.format(len(list(f_list))))\n",
    "    print('number of dark files = {}'.format(len(list(dark_list))))\n",
    "    \n",
    "    return list(f_list)"
   ]
  },
  {
   "cell_type": "code",
   "execution_count": 61,
   "metadata": {
    "collapsed": false
   },
   "outputs": [
    {
     "name": "stdout",
     "output_type": "stream",
     "text": [
      "Please give path to where is your data located at:  ~/Desktop/Globus/multimodal/data3_Textured\n",
      "number of total files = 172\n",
      "number of dark files = 20\n"
     ]
    }
   ],
   "source": [
    "f_list = read_tif_files()\n",
    "#np.savetxt('texture_filelist.txt',f_list, fmt='%s')"
   ]
  },
  {
   "cell_type": "code",
   "execution_count": 64,
   "metadata": {
    "collapsed": false
   },
   "outputs": [],
   "source": []
  }
 ],
 "metadata": {
  "kernelspec": {
   "display_name": "Python 3",
   "language": "python",
   "name": "python3"
  },
  "language_info": {
   "codemirror_mode": {
    "name": "ipython",
    "version": 3
   },
   "file_extension": ".py",
   "mimetype": "text/x-python",
   "name": "python",
   "nbconvert_exporter": "python",
   "pygments_lexer": "ipython3",
   "version": "3.5.1"
  }
 },
 "nbformat": 4,
 "nbformat_minor": 0
}
