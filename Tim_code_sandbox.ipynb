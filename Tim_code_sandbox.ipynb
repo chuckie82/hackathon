{
 "cells": [
  {
   "cell_type": "code",
   "execution_count": 1,
   "metadata": {
    "collapsed": true
   },
   "outputs": [],
   "source": [
    "%matplotlib notebook\n",
    "import glob\n",
    "import os\n",
    "import numpy as np\n",
    "import matplotlib.pyplot as plt\n",
    "import tifffile as tif\n",
    "import json"
   ]
  },
  {
   "cell_type": "code",
   "execution_count": 35,
   "metadata": {
    "collapsed": false
   },
   "outputs": [
    {
     "name": "stdout",
     "output_type": "stream",
     "text": [
      "number of total files = 172\n",
      "number of dark files = 20\n"
     ]
    }
   ],
   "source": [
    "def read_tif_files():\n",
    "    '''function to read out tif files in directory'''\n",
    "    #usr_in = input('Please give path to where is your data located at:  ')\n",
    "    f_list = list(glob.iglob('/Users/timothyliu/Desktop/Globus/multimodal/data3_Textured/**/*.tif', recursive=True))\n",
    "    dark_list = list(glob.iglob('/Users/timothyliu/Desktop/Globus/multimodal/data3_Textured/**/*dark*.tif', recursive=True))\n",
    "    for el in f_list:\n",
    "        if el in dark_list:\n",
    "            f_list.remove(el)\n",
    "    #out_list = [f for f in f_list if f not in dark_list]\n",
    "    print('number of total files = {}'.format(len(list(f_list))))\n",
    "    print('number of dark files = {}'.format(len(list(dark_list))))\n",
    "    return list(f_list)\n",
    "# doesn't have to do this step, once we have f_list\n",
    "f_list = read_tif_files()\n",
    "#print(f_list)\n",
    "with open('/Users/timothyliu/hackathon/texture_f_list.txt', 'w') as f:\n",
    "    json.dump(f_list, f)"
   ]
  },
  {
   "cell_type": "code",
   "execution_count": 3,
   "metadata": {
    "collapsed": false,
    "scrolled": true
   },
   "outputs": [
    {
     "data": {
      "text/plain": [
       "['/Users/timothyliu/Desktop/Globus/multimodal/clean_data/CeO2_calib-00000.tif',\n",
       " '/Users/timothyliu/Desktop/Globus/multimodal/clean_data/Ni_300K-00044.tif',\n",
       " '/Users/timothyliu/Desktop/Globus/multimodal/clean_data/Ni_STD_300K-00538.tif',\n",
       " '/Users/timothyliu/Desktop/Globus/multimodal/clean_data/nickel-00000.raw.tif',\n",
       " '/Users/timothyliu/Desktop/Globus/multimodal/clean_data/nickel_296K-00002.tif',\n",
       " '/Users/timothyliu/Desktop/Globus/multimodal/clean_data/nickelstandard_100K-00028.tif']"
      ]
     },
     "execution_count": 3,
     "metadata": {},
     "output_type": "execute_result"
    }
   ],
   "source": [
    "# collect clean data\n",
    "std_list = list(glob.glob('/Users/timothyliu/Desktop/Globus/multimodal/clean_data/*.tif'))\n",
    "dark_list = []\n",
    "for el in std_list:\n",
    "    if 'dark' in el:\n",
    "        dark_list.append(el)\n",
    "        std_list.remove(el)\n",
    "std_list"
   ]
  },
  {
   "cell_type": "code",
   "execution_count": 4,
   "metadata": {
    "collapsed": false
   },
   "outputs": [],
   "source": [
    "add_list = list(glob.glob('/Users/timothyliu/Desktop/Globus/multimodal/clean_data/**/*.tif'))\n",
    "with open('/Users/timothyliu/hackathon/std_f_list.txt', 'w') as std_f:\n",
    "    json.dump(std_list, std_f)\n",
    "with open('/Users/timothyliu/hackathon/extra_std_f_list.txt', 'w') as add_f:\n",
    "    json.dump(add_list, add_f)"
   ]
  },
  {
   "cell_type": "code",
   "execution_count": 5,
   "metadata": {
    "collapsed": true
   },
   "outputs": [],
   "source": [
    "# start to work\n",
    "os.chdir('/Users/timothyliu/hackathon/')\n",
    "# read in json file\n",
    "with open('texture_f_list.txt','r') as f:\n",
    "    f_list = json.load(f)\n",
    "with open('untextured_f_list.txt','r') as f:\n",
    "    std_list = json.load(f)"
   ]
  },
  {
   "cell_type": "code",
   "execution_count": 6,
   "metadata": {
    "collapsed": true
   },
   "outputs": [],
   "source": [
    "# brutally corp images\n",
    "def quarter_img(f_name, center=1024, width=200):\n",
    "    img = tif.imread(f_name)\n",
    "    img_list = []\n",
    "    for i in np.linspace(-1,1,2):\n",
    "        for j in np.linspace(-1,1,2):\n",
    "            lower_x = min(center+int(i)*width, center)\n",
    "            upper_x = max(center+int(i)*width, center)\n",
    "            lower_y = min(center+int(j)*width, center)\n",
    "            upper_y = max(center+int(j)*width, center)\n",
    "            img_list.append(img[lower_x:upper_x, lower_y:upper_y])\n",
    "    return img_list\n",
    "\n",
    "def crop_img(f_name, center=1024, width=200):\n",
    "    img = tif.imread(f_name)\n",
    "    img_list = []\n",
    "    img_list.append(img[center-width:center+width, center-width:center+width])\n",
    "    return img_list"
   ]
  },
  {
   "cell_type": "code",
   "execution_count": 39,
   "metadata": {
    "collapsed": false
   },
   "outputs": [],
   "source": [
    "# loop over images and create np array of texture data\n",
    "def file_dict(f_list):\n",
    "    out_dict = {}\n",
    "    for i in range(len(f_list)):\n",
    "        out_dict.update({str(i):os.path.basename(f_list[i])})\n",
    "        #print(os.path.basename(f_list[i]))\n",
    "    return out_dict\n",
    "        \n",
    "def build_quarter_img_list(f_list):\n",
    "    import tifffile as tif\n",
    "    out_list = []\n",
    "    f_out_list = []\n",
    "    _img = tif.imread(f_list[1])\n",
    "    num_obs = len(f_list)\n",
    "    (x_dim, y_dim) = np.shape(_img)\n",
    "    for i in range(len(f_list)):\n",
    "        quarter_imgs = quarter_img(f_list[i])\n",
    "        for el in quarter_imgs:\n",
    "            out_list.append(el)\n",
    "            f_out_list.append(str(i))\n",
    "    out = np.array(out_list)\n",
    "    return out, f_out_list\n",
    "\n",
    "def build_full_img_list(f_list):\n",
    "    import tifffile as tif\n",
    "    out_list = []\n",
    "    _img = tif.imread(f_list[1])\n",
    "    num_obs = len(f_list)\n",
    "    (x_dim, y_dim) = np.shape(_img)\n",
    "    for f in f_list:\n",
    "        img = crop_img(f)\n",
    "        out_list.append(img)\n",
    "    _out = np.array(out_list)\n",
    "    out = np.squeeze(_out)\n",
    "    return out, f_list"
   ]
  },
  {
   "cell_type": "code",
   "execution_count": 40,
   "metadata": {
    "collapsed": false
   },
   "outputs": [
    {
     "data": {
      "text/plain": [
       "\"\\nos.makedirs('/Users/timothyliu/hackathon/quarter/', exist_ok=True)\\nnp.save('/Users/timothyliu/hackathon/quarter/texture_data_np_array',quarter_texture_data_list)\\nnp.save('/Users/timothyliu/hackathon/quarter/standard_data_np_array', quarter_standard_list)\\nnp.save('/Users/timothyliu/hackathon/quarter/extra_standard_data_np_array', quarter_extra_standard_list)\\n\""
      ]
     },
     "execution_count": 40,
     "metadata": {},
     "output_type": "execute_result"
    }
   ],
   "source": [
    "# quarter_imgs\n",
    "(quarter_texture_data_list, quarter_textrure_f_list) = build_quarter_img_list(f_list)\n",
    "(quarter_standard_list, quarter_std_f_list) = build_quarter_img_list(std_list)\n",
    "(quarter_extra_standard_list, quarter_extra_standard_f_list) = build_quarter_img_list(add_list)\n",
    "\n",
    "# save data\n",
    "os.makedirs('/Users/timothyliu/hackathon/quarter/', exist_ok=True)\n",
    "np.save('/Users/timothyliu/hackathon/quarter/texture_data_np_array',quarter_texture_data_list)\n",
    "np.save('/Users/timothyliu/hackathon/quarter/standard_data_np_array', quarter_standard_list)\n",
    "np.save('/Users/timothyliu/hackathon/quarter/extra_standard_data_np_array', quarter_extra_standard_list)"
   ]
  },
  {
   "cell_type": "code",
   "execution_count": 42,
   "metadata": {
    "collapsed": false
   },
   "outputs": [
    {
     "data": {
      "text/plain": [
       "688"
      ]
     },
     "execution_count": 42,
     "metadata": {},
     "output_type": "execute_result"
    }
   ],
   "source": [
    "len(quarter_textrure_f_list)"
   ]
  },
  {
   "cell_type": "code",
   "execution_count": 44,
   "metadata": {
    "collapsed": false
   },
   "outputs": [
    {
     "data": {
      "text/plain": [
       "{'0': 'AuOnCu_bkg_RT-00000.tif',\n",
       " '1': 'AuOnCu_bkg_RT-00001.tif',\n",
       " '10': 'AuOnCu_bkg_RT-00011.tif',\n",
       " '100': 'Cu_in_polyester_225um_bkg_final-00010.tif',\n",
       " '101': 'Cu_in_polyester_225um_bkg_final-00011.tif',\n",
       " '102': 'Cu_in_polyester_225um_bkg_final-00012.tif',\n",
       " '103': 'Cu_in_polyester_225um_bkg_final-00013.tif',\n",
       " '104': 'Cu_in_polyester_225um_bkg_final-00014.tif',\n",
       " '105': 'Cu_in_polyester_225um_bkg_final-00015.tif',\n",
       " '106': 'Cu_in_polyester_225um_bkg_final-00016.tif',\n",
       " '107': 'Cu_in_polyester_225um_bkg_final-00017.tif',\n",
       " '108': 'Cu_in_polyester_225um_bkg_final-00018.tif',\n",
       " '109': 'Cu_in_polyester_225um_bkg_final-00019.tif',\n",
       " '11': 'AuOnCu_bkg_RT-00012.tif',\n",
       " '110': 'Cu_in_polyester_225um_bkg_final-00020.tif',\n",
       " '111': 'Cu_in_poly_test-00000.tif',\n",
       " '112': 'Cu_in_poly_test-00001.tif',\n",
       " '113': 'Cu_in_poly_test-00002.tif',\n",
       " '114': 'GLPF-1-1_RT-00001.tif',\n",
       " '115': 'GLPF-1-1_RT-00002.tif',\n",
       " '116': 'GLPF-1-1_RT-00003.tif',\n",
       " '117': 'GLPF-1-1_RT-00004.tif',\n",
       " '118': 'GLPF-1-1_RT-00005.tif',\n",
       " '119': 'GLPF-1-2_RT-00007.tif',\n",
       " '12': 'AuOnCu_bkg_RT-00013.tif',\n",
       " '120': 'GLPF-1-2_RT-00008.tif',\n",
       " '121': 'GLPF-1-2_RT-00009.tif',\n",
       " '122': 'GLPF-1-2_RT-00010.tif',\n",
       " '123': 'GLPF-1-3_RT-00000.tif',\n",
       " '124': 'GLPF-1-3_RT-00001.tif',\n",
       " '125': 'GLPF-1-3_RT-00002.tif',\n",
       " '126': 'GLPF-1-3_RT-00003.tif',\n",
       " '127': 'GLTF-1-1_RT-00000.tif',\n",
       " '128': 'GLTF-1-1_RT-00001.tif',\n",
       " '129': 'GLTF-1-1_RT-00002.tif',\n",
       " '13': 'AuOnCu_bkg_RT-00014.tif',\n",
       " '130': 'GLTF-1-1_RT-00003.tif',\n",
       " '131': 'GLTF-1-2_RT-00000.tif',\n",
       " '132': 'GLTF-1-2_RT-00001.tif',\n",
       " '133': 'GLTF-1-2_RT-00002.tif',\n",
       " '134': 'GLTF-1-2_RT-00003.tif',\n",
       " '135': 'GLTF-1-3_RT-00001-00001.tif',\n",
       " '136': 'GLTF-1-3_RT-00001.tif',\n",
       " '137': 'GLTF-1-3_RT-00002-00001.tif',\n",
       " '138': 'GLTF-1-3_RT-00003-00001.tif',\n",
       " '139': 'GLTF-1-3_RT-00005.tif',\n",
       " '14': 'AuOnCu_bkg_RT-00015.tif',\n",
       " '140': 'Li on Cu_bkg_RT-00000.tif',\n",
       " '141': 'Li on Cu_bkg_RT-00001.tif',\n",
       " '142': 'Li on Cu_bkg_RT-00002.tif',\n",
       " '143': 'Li on Cu_bkg_RT-00003.tif',\n",
       " '144': 'polyester_film_225um_67keV_60s_RT-00001.tif',\n",
       " '145': 'polyester_film_225um_67keV_60s_RT-00002.tif',\n",
       " '146': 'polyester_film_225um_67keV_60s_RT-00003.tif',\n",
       " '147': 'polyester_film_225um_67keV_60s_RT-00004.tif',\n",
       " '148': 'polyester_film_225um_67keV_60s_RT-00005.tif',\n",
       " '149': 'polyester_film_225um_67keV_60s_RT-00006.tif',\n",
       " '15': 'AuOnCu_bkg_RT-00016.tif',\n",
       " '150': 'polyester_film_225um_67keV_60s_RT-00007.tif',\n",
       " '151': 'polyester_film_225um_67keV_60s_RT-00008.tif',\n",
       " '152': 'polyester_film_225um_67keV_60s_RT-00009.tif',\n",
       " '153': 'polyester_film_225um_67keV_60s_RT-00010.tif',\n",
       " '154': 'polyester_film_225um_67keV_60s_RT-00011.tif',\n",
       " '155': 'polyester_film_225um_67keV_60s_RT-00012.tif',\n",
       " '156': 'polyester_film_225um_67keV_60s_RT-00013.tif',\n",
       " '157': 'polyester_film_225um_67keV_60s_RT-00014.tif',\n",
       " '158': 'polyester_film_225um_67keV_60s_RT-00015.tif',\n",
       " '159': 'polyester_film_225um_67keV_60s_RT-00016.tif',\n",
       " '16': 'CAL-PF-1_RT-00000.tif',\n",
       " '160': 'polyester_film_225um_67keV_60s_RT-00017.tif',\n",
       " '161': 'polyester_film_225um_67keV_60s_RT-00018.tif',\n",
       " '162': 'polyester_film_225um_67keV_60s_RT-00019.tif',\n",
       " '163': 'polyester_film_225um_67keV_60s_RT-00020.tif',\n",
       " '164': 'Li_bkg_RT-00000.dark.tif',\n",
       " '165': 'Li_bkg_RT-00000.tif',\n",
       " '166': 'Li_bkg_RT-00001.tif',\n",
       " '167': 'Li_bkg_RT-00002.tif',\n",
       " '168': 'Li_bkg_RT-00003.tif',\n",
       " '169': 'Li_bkg_RT-00004.tif',\n",
       " '17': 'CAL-PF-2_RT-00001.tif',\n",
       " '170': 'Li_bkg_RT-00005.tif',\n",
       " '171': 'Li_bkg_RT-00006.tif',\n",
       " '18': 'CAL-PF-3_RT-00000.tif',\n",
       " '19': 'CAL-PF-1-age_RT-00000.tif',\n",
       " '2': 'AuOnCu_bkg_RT-00002.tif',\n",
       " '20': 'CAL-PF-1-age_RT-00001.tif',\n",
       " '21': 'CAL-PF-2-age_RT-00000.tif',\n",
       " '22': 'CAL-PF-2-age_RT-00001.tif',\n",
       " '23': 'CAL-PF-3-age_RT-00000.tif',\n",
       " '24': 'CAL-PF-3-age_RT-00001.tif',\n",
       " '25': 'CAL-TF-1_RT-00000.tif',\n",
       " '26': 'CAL-TF-1_RT-00001.tif',\n",
       " '27': 'CAL-TF-2_RT-00000.tif',\n",
       " '28': 'CAL-TF-2_RT-00001.tif',\n",
       " '29': 'CAL-TF-3_RT-00000.tif',\n",
       " '3': 'AuOnCu_bkg_RT-00003.tif',\n",
       " '30': 'CAL-TF-3_RT-00001.tif',\n",
       " '31': 'CAL-TF-1-age_RT-00001-00001.tif',\n",
       " '32': 'CAL-TF-2-age_RT-00000.tif',\n",
       " '33': 'CAL-TF-3-age_RT-00001.tif',\n",
       " '34': 'CeO2_calib-00000.tif',\n",
       " '35': 'CL-PF-1_RT-00000.tif',\n",
       " '36': 'CL-PF-1_RT-00001.tif',\n",
       " '37': 'CL-PF-2_RT-00000.tif',\n",
       " '38': 'CL-PF-2_RT-00001.tif',\n",
       " '39': 'CL-PF-3_RT-00001.tif',\n",
       " '4': 'AuOnCu_bkg_RT-00004.tif',\n",
       " '40': 'CL-PF-3_RT-00002.tif',\n",
       " '41': 'CL-PF-3_RT-00003.tif',\n",
       " '42': 'CL-PF-3_RT-00004.tif',\n",
       " '43': 'CL-PF-3_RT-00005.tif',\n",
       " '44': 'CL-PF-3_RT-00006.tif',\n",
       " '45': 'CL-PF-3_RT-00007.tif',\n",
       " '46': 'CL-PF-3_RT-00008.tif',\n",
       " '47': 'CL-PF-3_RT-00009.tif',\n",
       " '48': 'CL-PF-3_RT-00010.tif',\n",
       " '49': 'CL-PF-3_RT-00011.tif',\n",
       " '5': 'AuOnCu_bkg_RT-00005.tif',\n",
       " '50': 'CL-PF-3_RT-00012.tif',\n",
       " '51': 'CL-PF-3_RT-00013.tif',\n",
       " '52': 'CL-PF-3_RT-00014.tif',\n",
       " '53': 'CL-PF-3_RT-00015.tif',\n",
       " '54': 'CL-PF-3_RT-00016.tif',\n",
       " '55': 'CL-PF-3_RT-00017.tif',\n",
       " '56': 'CL-PF-3_RT-00018.tif',\n",
       " '57': 'CL-PF-3_RT-00019.tif',\n",
       " '58': 'CL-PF-3_RT-00020.tif',\n",
       " '59': 'CL-PF-3_RT-00021.tif',\n",
       " '6': 'AuOnCu_bkg_RT-00006.tif',\n",
       " '60': 'CL-PF-3_RT-00022.tif',\n",
       " '61': 'CL-PF-3_RT-00023.tif',\n",
       " '62': 'CL-PF-3_RT-00024.tif',\n",
       " '63': 'CL-PF-3_RT-00025.tif',\n",
       " '64': 'CL-PF-1-age_RT-00000.tif',\n",
       " '65': 'CL-PF-1-age_RT-00001.tif',\n",
       " '66': 'CL-PF-2-age_RT-00000.tif',\n",
       " '67': 'CL-PF-2-age_RT-00001.tif',\n",
       " '68': 'CL-PF-3-age_RT-00000.tif',\n",
       " '69': 'CL-PF-3-age_RT-00001.tif',\n",
       " '7': 'AuOnCu_bkg_RT-00007.tif',\n",
       " '70': 'CL-TF-1_RT-00000.tif',\n",
       " '71': 'CL-TF-1_RT-00001.tif',\n",
       " '72': 'CL-TF-2_RT-00001.tif',\n",
       " '73': 'CL-TF-2_RT-00002.tif',\n",
       " '74': 'CL-TF-2_RT-00003.tif',\n",
       " '75': 'CL-TF-2_RT-00004.tif',\n",
       " '76': 'CL-TF-2_RT-00005.tif',\n",
       " '77': 'CL-TF-2_RT-00006.tif',\n",
       " '78': 'CL-TF-2_RT-00007.tif',\n",
       " '79': 'CL-TF-2_RT-00008.tif',\n",
       " '8': 'AuOnCu_bkg_RT-00009.tif',\n",
       " '80': 'CL-TF-2_RT-00009.tif',\n",
       " '81': 'CL-TF-2_RT-00010.tif',\n",
       " '82': 'CL-TF-2_RT-00011.tif',\n",
       " '83': 'CL-TF-3_RT-00000.tif',\n",
       " '84': 'CL-TF-3_RT-00001.tif',\n",
       " '85': 'CL-TF-1-age_RT-00000.tif',\n",
       " '86': 'CL-TF-1-age_RT-00001.tif',\n",
       " '87': 'CL-TF-2-age_RT-00000.tif',\n",
       " '88': 'CL-TF-2-age_RT-00001.tif',\n",
       " '89': 'CL-TF-3-age_RT-00000.tif',\n",
       " '9': 'AuOnCu_bkg_RT-00010.tif',\n",
       " '90': 'CL-TF-3-age_RT-00001.tif',\n",
       " '91': 'Cu_in_polyester_225um_bkg_final-00001.tif',\n",
       " '92': 'Cu_in_polyester_225um_bkg_final-00002.tif',\n",
       " '93': 'Cu_in_polyester_225um_bkg_final-00003.tif',\n",
       " '94': 'Cu_in_polyester_225um_bkg_final-00004.tif',\n",
       " '95': 'Cu_in_polyester_225um_bkg_final-00005.tif',\n",
       " '96': 'Cu_in_polyester_225um_bkg_final-00006.tif',\n",
       " '97': 'Cu_in_polyester_225um_bkg_final-00007.tif',\n",
       " '98': 'Cu_in_polyester_225um_bkg_final-00008.tif',\n",
       " '99': 'Cu_in_polyester_225um_bkg_final-00009.tif'}"
      ]
     },
     "execution_count": 44,
     "metadata": {},
     "output_type": "execute_result"
    }
   ],
   "source": [
    "f_dict = file_dict(f_list)\n",
    "f_dict"
   ]
  },
  {
   "cell_type": "code",
   "execution_count": null,
   "metadata": {
    "collapsed": false
   },
   "outputs": [],
   "source": [
    "# full imgs\n",
    "texture_data_list = build_full_img_list(f_list)\n",
    "standard_list = build_full_img_list(std_list)\n",
    "extra_standard_list = build_full_img_list(add_list)\n",
    "\n",
    "# save data\n",
    "'''\n",
    "os.makedirs('/Users/timothyliu/hackathon/full/', exist_ok=True)\n",
    "np.save('/Users/timothyliu/hackathon/full/texture_data_np_array', texture_data_list)\n",
    "np.save('/Users/timothyliu/hackathon/full/standard_data_np_array', standard_list)\n",
    "np.save('/Users/timothyliu/hackathon/full/extra_standard_data_np_array', extra_standard_list)\n",
    "'''"
   ]
  },
  {
   "cell_type": "code",
   "execution_count": null,
   "metadata": {
    "collapsed": true
   },
   "outputs": [],
   "source": [
    "# get file label\n",
    "np.random.seed(1337)\n"
   ]
  }
 ],
 "metadata": {
  "kernelspec": {
   "display_name": "Python 3",
   "language": "python",
   "name": "python3"
  },
  "language_info": {
   "codemirror_mode": {
    "name": "ipython",
    "version": 3
   },
   "file_extension": ".py",
   "mimetype": "text/x-python",
   "name": "python",
   "nbconvert_exporter": "python",
   "pygments_lexer": "ipython3",
   "version": "3.5.1"
  }
 },
 "nbformat": 4,
 "nbformat_minor": 0
}
