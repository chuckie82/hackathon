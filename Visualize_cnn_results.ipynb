{
 "cells": [
  {
   "cell_type": "code",
   "execution_count": 4,
   "metadata": {
    "collapsed": true
   },
   "outputs": [],
   "source": [
    "import numpy as np\n",
    "import matplotlib.pyplot as plt"
   ]
  },
  {
   "cell_type": "code",
   "execution_count": 2,
   "metadata": {
    "collapsed": true
   },
   "outputs": [],
   "source": [
    "path = '/Users/yoon82/Documents/hackathon/cleaned_data/'\n",
    "extra_standard = np.load(path+'extra_standard_data_np_array.npy')\n",
    "standard = np.load(path+'standard_data_np_array.npy')\n",
    "texture = np.load(path+'texture_data_np_array.npy')"
   ]
  },
  {
   "cell_type": "code",
   "execution_count": 35,
   "metadata": {
    "collapsed": false
   },
   "outputs": [
    {
     "name": "stdout",
     "output_type": "stream",
     "text": [
      "(76, 200, 200) (24, 200, 200) (688, 200, 200)\n",
      "300\n",
      "(788, 200, 200)\n"
     ]
    }
   ],
   "source": [
    "print(extra_standard.shape,standard.shape,texture.shape)\n",
    "#texture 100:400\n",
    "#standard+extra 100\n",
    "print(len(np.arange(100,400)))\n",
    "myImages = np.concatenate((texture, standard, extra_standard), axis=0)\n",
    "print(myImages.shape)"
   ]
  },
  {
   "cell_type": "code",
   "execution_count": null,
   "metadata": {
    "collapsed": false
   },
   "outputs": [],
   "source": [
    "# Look at first three images\n",
    "for i in range(3):\n",
    "    plt.imshow(myImages[i,:,:])\n",
    "    plt.show()"
   ]
  },
  {
   "cell_type": "markdown",
   "metadata": {},
   "source": [
    "# Show results"
   ]
  },
  {
   "cell_type": "code",
   "execution_count": 20,
   "metadata": {
    "collapsed": false
   },
   "outputs": [
    {
     "name": "stdout",
     "output_type": "stream",
     "text": [
      "(400, 2) (400, 2)\n"
     ]
    }
   ],
   "source": [
    "labels = np.load('/Users/yoon82/hackathon/labels.npy')\n",
    "predicted = np.load('/Users/yoon82/hackathon/predicted_output.npy')\n",
    "print(labels.shape,predicted.shape)"
   ]
  },
  {
   "cell_type": "code",
   "execution_count": 54,
   "metadata": {
    "collapsed": false
   },
   "outputs": [],
   "source": [
    "plt.subplot(121)\n",
    "plt.plot(predicted[:,0],'bx',markersize=10)\n",
    "plt.plot(labels[:,0],'r+',markersize=10)\n",
    "axes = plt.gca()\n",
    "axes.set_ylim([-0.3,1.3])\n",
    "plt.title('Labels[+] vs Predicted[x]')\n",
    "plt.subplot(122)\n",
    "wrongIndex = np.round(labels[:,0] - predicted[:,0])\n",
    "plt.plot(wrongIndex,'bx',markersize=20)\n",
    "axes = plt.gca()\n",
    "axes.set_ylim([-0.3,1.3])\n",
    "plt.title('Wrong predictions = 1')\n",
    "plt.show()"
   ]
  },
  {
   "cell_type": "code",
   "execution_count": 37,
   "metadata": {
    "collapsed": false
   },
   "outputs": [],
   "source": [
    "difficultImageIndex = np.where(wrongIndex==1)[0]"
   ]
  },
  {
   "cell_type": "code",
   "execution_count": 41,
   "metadata": {
    "collapsed": false
   },
   "outputs": [],
   "source": [
    "for i in difficultImageIndex:\n",
    "    plt.imshow(myImages[i,:,:])\n",
    "    plt.title(i)\n",
    "    plt.show()"
   ]
  },
  {
   "cell_type": "code",
   "execution_count": 52,
   "metadata": {
    "collapsed": true
   },
   "outputs": [],
   "source": [
    "imgA = myImages[difficultImageIndex[0],:,:]\n",
    "imgB = myImages[difficultImageIndex[1],:,:]\n",
    "plt.imshow(imgA-imgB)\n",
    "plt.colorbar()\n",
    "plt.show()"
   ]
  },
  {
   "cell_type": "code",
   "execution_count": null,
   "metadata": {
    "collapsed": true
   },
   "outputs": [],
   "source": []
  }
 ],
 "metadata": {
  "kernelspec": {
   "display_name": "Python 3",
   "language": "python",
   "name": "python3"
  },
  "language_info": {
   "codemirror_mode": {
    "name": "ipython",
    "version": 3
   },
   "file_extension": ".py",
   "mimetype": "text/x-python",
   "name": "python",
   "nbconvert_exporter": "python",
   "pygments_lexer": "ipython3",
   "version": "3.5.1"
  }
 },
 "nbformat": 4,
 "nbformat_minor": 0
}
